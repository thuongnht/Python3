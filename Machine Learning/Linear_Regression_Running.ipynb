{
 "cells": [
  {
   "cell_type": "code",
   "execution_count": 1,
   "metadata": {
    "collapsed": false
   },
   "outputs": [
    {
     "name": "stdout",
     "output_type": "stream",
     "text": [
      "Using the default dataset!!!\n",
      "Plotting data ... \n",
      "\n"
     ]
    },
    {
     "name": "stderr",
     "output_type": "stream",
     "text": [
      "C:\\Users\\645\\Anaconda3\\lib\\site-packages\\matplotlib\\backend_bases.py:2437: MatplotlibDeprecationWarning: Using default event loop until function specific to this GUI is implemented\n",
      "  warnings.warn(str, mplDeprecation)\n"
     ]
    },
    {
     "name": "stdout",
     "output_type": "stream",
     "text": [
      "Running Gradient Descent ...\n",
      "\n",
      "Plotting Linear-Regression (Gradient Descent) and J-Convergence ... \n",
      "\n",
      "gd: 6.8993237018585205 sec\n",
      "Using the default dataset!!!\n",
      "Plotting data ... \n",
      "\n",
      "Solving with Normal Equation ... \n",
      "\n",
      "Plotting Linear-Regression (Normal Equation) ... \n",
      "\n",
      "ne: 0.4240262508392334 sec\n",
      "List processing complete.\n"
     ]
    }
   ],
   "source": [
    "run Machine_Learning_Tools.py"
   ]
  },
  {
   "cell_type": "code",
   "execution_count": null,
   "metadata": {
    "collapsed": true
   },
   "outputs": [],
   "source": []
  }
 ],
 "metadata": {
  "kernelspec": {
   "display_name": "Python 3",
   "language": "python",
   "name": "python3"
  },
  "language_info": {
   "codemirror_mode": {
    "name": "ipython",
    "version": 3
   },
   "file_extension": ".py",
   "mimetype": "text/x-python",
   "name": "python",
   "nbconvert_exporter": "python",
   "pygments_lexer": "ipython3",
   "version": "3.5.1"
  }
 },
 "nbformat": 4,
 "nbformat_minor": 0
}
