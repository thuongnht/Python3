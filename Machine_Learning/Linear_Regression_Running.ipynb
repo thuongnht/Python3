{
 "cells": [
  {
   "cell_type": "code",
   "execution_count": 1,
   "metadata": {
    "collapsed": false
   },
   "outputs": [
    {
     "name": "stdout",
     "output_type": "stream",
     "text": [
      "New Dataset is loaded...\n",
      "Using the loaded dataset!!!\n",
      "Plotting data ...\n",
      "Solving with Normal Equation ...\n",
      "Plotting Linear-Regression (Normal Equation) ...\n",
      "Time consumed of lrByNormalEquation: 0.203000068665 sec \n",
      "\n",
      "\n",
      "Using the loaded dataset!!!\n",
      "Plotting data ...\n",
      "Running Gradient Descent ...\n",
      "Plotting Linear-Regression (Gradient Descent) and J-Convergence ...\n",
      "Time consumed of lrByGradientDescent: 6.61500000954 sec \n",
      "\n",
      "\n",
      "New Dataset is loaded...\n",
      "Using the loaded dataset!!!\n",
      "Plotting data ...\n",
      "Solving with Normal Equation ...\n",
      "Plotting Linear-Regression (Normal Equation) ...\n",
      "Time consumed of lrByNormalEquation: 0.188000202179 sec \n",
      "\n",
      "\n"
     ]
    }
   ],
   "source": [
    "run ML_UI.py"
   ]
  },
  {
   "cell_type": "code",
   "execution_count": null,
   "metadata": {
    "collapsed": true
   },
   "outputs": [],
   "source": [
    ""
   ]
  }
 ],
 "metadata": {
  "kernelspec": {
   "display_name": "Python 2",
   "language": "python",
   "name": "python2"
  },
  "language_info": {
   "codemirror_mode": {
    "name": "ipython",
    "version": 2.0
   },
   "file_extension": ".py",
   "mimetype": "text/x-python",
   "name": "python",
   "nbconvert_exporter": "python",
   "pygments_lexer": "ipython2",
   "version": "2.7.11"
  }
 },
 "nbformat": 4,
 "nbformat_minor": 0
}